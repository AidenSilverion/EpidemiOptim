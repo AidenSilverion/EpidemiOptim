{
 "cells": [
  {
   "cell_type": "code",
   "execution_count": 1,
   "metadata": {},
   "outputs": [],
   "source": [
    "%matplotlib widget\n",
    "\n",
    "import matplotlib.pyplot as plt\n",
    "import matplotlib\n",
    "import sys\n",
    "import numpy as np\n",
    "import ipywidgets as widgets\n",
    "sys.path.append('../../')\n",
    "from epidemioptim.analysis.server_utils import test_layout,introduction, footer\n",
    "plt.ioff()\n",
    "\n",
    "\n",
    "algorithm = 'DQN'  # Pick from ['DQN', 'GOAL_DQN_CONSTRAINTS', 'GOAL_DQN', 'NSGA']\n",
    "seed = np.random.randint(1e6)\n",
    "deterministic_model = False  # whether the model is deterministic or not\n",
    "toto=test_layout(algorithm,seed,deterministic_model)\n"
   ]
  },
  {
   "cell_type": "code",
   "execution_count": 2,
   "metadata": {},
   "outputs": [],
   "source": [
    "algorithm = 'GOAL_DQN'  # Pick from ['DQN', 'GOAL_DQN_CONSTRAINTS', 'GOAL_DQN', 'NSGA']\n",
    "seed = np.random.randint(1e6)\n",
    "deterministic_model = False  # whether the model is deterministic or not\n",
    "tata=test_layout(algorithm,seed,deterministic_model)\n"
   ]
  },
  {
   "cell_type": "code",
   "execution_count": 3,
   "metadata": {},
   "outputs": [
    {
     "ename": "NameError",
     "evalue": "name 'slider_M_sanitary_desc' is not defined",
     "output_type": "error",
     "traceback": [
      "\u001b[0;31m---------------------------------------------------------------------------\u001b[0m",
      "\u001b[0;31mNameError\u001b[0m                                 Traceback (most recent call last)",
      "\u001b[0;32m<ipython-input-3-9ffb12d805d3>\u001b[0m in \u001b[0;36m<module>\u001b[0;34m\u001b[0m\n\u001b[1;32m      2\u001b[0m \u001b[0mseed\u001b[0m \u001b[0;34m=\u001b[0m \u001b[0mnp\u001b[0m\u001b[0;34m.\u001b[0m\u001b[0mrandom\u001b[0m\u001b[0;34m.\u001b[0m\u001b[0mrandint\u001b[0m\u001b[0;34m(\u001b[0m\u001b[0;36m1e6\u001b[0m\u001b[0;34m)\u001b[0m\u001b[0;34m\u001b[0m\u001b[0;34m\u001b[0m\u001b[0m\n\u001b[1;32m      3\u001b[0m \u001b[0mdeterministic_model\u001b[0m \u001b[0;34m=\u001b[0m \u001b[0;32mFalse\u001b[0m  \u001b[0;31m# whether the model is deterministic or not\u001b[0m\u001b[0;34m\u001b[0m\u001b[0;34m\u001b[0m\u001b[0m\n\u001b[0;32m----> 4\u001b[0;31m \u001b[0mtutu\u001b[0m\u001b[0;34m=\u001b[0m\u001b[0mtest_layout\u001b[0m\u001b[0;34m(\u001b[0m\u001b[0malgorithm\u001b[0m\u001b[0;34m,\u001b[0m\u001b[0mseed\u001b[0m\u001b[0;34m,\u001b[0m\u001b[0mdeterministic_model\u001b[0m\u001b[0;34m)\u001b[0m\u001b[0;34m\u001b[0m\u001b[0;34m\u001b[0m\u001b[0m\n\u001b[0m",
      "\u001b[0;32m~/Projet/Flowers/EpidemiOptim/epidemioptim/analysis/server_utils.py\u001b[0m in \u001b[0;36mtest_layout\u001b[0;34m(algorithm_str, seed, deterministic_model)\u001b[0m\n\u001b[1;32m    464\u001b[0m             \u001b[0mslider_M_economic\u001b[0m\u001b[0;34m.\u001b[0m\u001b[0mobserve\u001b[0m\u001b[0;34m(\u001b[0m\u001b[0mupdate_const\u001b[0m\u001b[0;34m,\u001b[0m \u001b[0;34m'value'\u001b[0m\u001b[0;34m)\u001b[0m\u001b[0;34m\u001b[0m\u001b[0;34m\u001b[0m\u001b[0m\n\u001b[1;32m    465\u001b[0m             final_layout = center_vbox([str_html,\n\u001b[0;32m--> 466\u001b[0;31m                                         \u001b[0mcenter_vbox\u001b[0m\u001b[0;34m(\u001b[0m\u001b[0;34m[\u001b[0m\u001b[0mslider_beta\u001b[0m\u001b[0;34m,\u001b[0m\u001b[0mslider_M_sanitary_desc\u001b[0m\u001b[0;34m,\u001b[0m\u001b[0mslider_M_economic_desc\u001b[0m\u001b[0;34m]\u001b[0m\u001b[0;34m)\u001b[0m\u001b[0;34m,\u001b[0m\u001b[0;34m\u001b[0m\u001b[0;34m\u001b[0m\u001b[0m\n\u001b[0m\u001b[1;32m    467\u001b[0m                                         fig.canvas])\n\u001b[1;32m    468\u001b[0m             \u001b[0;32mreturn\u001b[0m \u001b[0mfinal_layout\u001b[0m\u001b[0;34m\u001b[0m\u001b[0;34m\u001b[0m\u001b[0m\n",
      "\u001b[0;31mNameError\u001b[0m: name 'slider_M_sanitary_desc' is not defined"
     ]
    }
   ],
   "source": [
    "algorithm = 'GOAL_DQN_CONST'  # Pick from ['DQN', 'GOAL_DQN_CONSTRAINTS', 'GOAL_DQN', 'NSGA']\n",
    "seed = np.random.randint(1e6)\n",
    "deterministic_model = False  # whether the model is deterministic or not\n",
    "tutu=test_layout(algorithm,seed,deterministic_model)\n"
   ]
  },
  {
   "cell_type": "code",
   "execution_count": null,
   "metadata": {},
   "outputs": [],
   "source": [
    "algorithm = 'NSGA'  # Pick from ['DQN', 'GOAL_DQN_CONSTRAINTS', 'GOAL_DQN', 'NSGA']\n",
    "seed = np.random.randint(1e6)\n",
    "deterministic_model = False  # whether the model is deterministic or not\n",
    "lay=test_layout(algorithm,seed,deterministic_model)\n",
    "\n",
    "algorithm = 'yourself'  # Pick from ['DQN', 'GOAL_DQN_CONSTRAINTS', 'GOAL_DQN', 'NSGA']\n",
    "seed = np.random.randint(1e6)\n",
    "deterministic_model = False  # whether the model is deterministic or not\n",
    "tryit=test_layout(algorithm,seed,deterministic_model)\n",
    "\n",
    "\n",
    "valid_algorithms = ['Algo 1: DQN', 'Algo 2: Goal-conditioned DQN',\n",
    "                    'Algo 3: Goal-conditioned DQN with constraints',\n",
    "                    'Algo 4: NSGA-II','Try it yourself!']\n",
    "sub_tab=[toto,tata,tutu,lay,tryit]\n",
    "tab = widgets.Tab(sub_tab,layout=widgets.Layout(width='1000px',\n",
    "                                                height='100%',\n",
    "                                                margin='auto',\n",
    "                                                )\n",
    "                  )\n",
    "for i in range (len(valid_algorithms)):\n",
    "    tab.set_title(i,valid_algorithms[i])\n"
   ]
  },
  {
   "cell_type": "code",
   "execution_count": null,
   "metadata": {},
   "outputs": [],
   "source": [
    "intro=introduction()\n",
    "foot=footer()\n",
    "application=widgets.VBox([intro,tab, foot])\n",
    "display(application)"
   ]
  },
  {
   "cell_type": "code",
   "execution_count": 10,
   "metadata": {},
   "outputs": [
    {
     "data": {
      "application/vnd.jupyter.widget-view+json": {
       "model_id": "63146154a79a4f719aaaa2d05392564e",
       "version_major": 2,
       "version_minor": 0
      },
      "text/plain": [
       "FloatSlider(value=0.5, description='beta', layout=Layout(width='400px'), max=1.0, step=0.05, style=SliderStyle…"
      ]
     },
     "metadata": {},
     "output_type": "display_data"
    }
   ],
   "source": []
  }
 ],
 "metadata": {
  "kernelspec": {
   "display_name": "Python 3",
   "language": "python",
   "name": "python3"
  },
  "language_info": {
   "codemirror_mode": {
    "name": "ipython",
    "version": 3
   },
   "file_extension": ".py",
   "mimetype": "text/x-python",
   "name": "python",
   "nbconvert_exporter": "python",
   "pygments_lexer": "ipython3",
   "version": "3.8.5"
  }
 },
 "nbformat": 4,
 "nbformat_minor": 4
}
