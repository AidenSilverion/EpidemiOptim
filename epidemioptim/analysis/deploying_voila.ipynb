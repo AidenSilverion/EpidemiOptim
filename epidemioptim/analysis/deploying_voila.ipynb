{
 "cells": [
  {
   "cell_type": "code",
   "execution_count": 1,
   "metadata": {},
   "outputs": [],
   "source": [
    "%matplotlib widget\n",
    "\n",
    "import matplotlib.pyplot as plt\n",
    "import matplotlib\n",
    "import sys\n",
    "import numpy as np\n",
    "import ipywidgets as widgets\n",
    "sys.path.append('../../')\n",
    "from epidemioptim.analysis.server_utils import test_layout,introduction\n",
    "plt.ioff()\n",
    "\n",
    "\n",
    "algorithm = 'DQN'  # Pick from ['DQN', 'GOAL_DQN_CONSTRAINTS', 'GOAL_DQN', 'NSGA']\n",
    "seed = np.random.randint(1e6)\n",
    "deterministic_model = False  # whether the model is deterministic or not\n",
    "toto=test_layout(algorithm,seed,deterministic_model)\n"
   ]
  },
  {
   "cell_type": "code",
   "execution_count": 2,
   "metadata": {},
   "outputs": [],
   "source": [
    "algorithm = 'GOAL_DQN'  # Pick from ['DQN', 'GOAL_DQN_CONSTRAINTS', 'GOAL_DQN', 'NSGA']\n",
    "seed = np.random.randint(1e6)\n",
    "deterministic_model = False  # whether the model is deterministic or not\n",
    "tata=test_layout(algorithm,seed,deterministic_model)\n"
   ]
  },
  {
   "cell_type": "code",
   "execution_count": 3,
   "metadata": {},
   "outputs": [],
   "source": [
    "algorithm = 'GOAL_DQN_CONST'  # Pick from ['DQN', 'GOAL_DQN_CONSTRAINTS', 'GOAL_DQN', 'NSGA']\n",
    "seed = np.random.randint(1e6)\n",
    "deterministic_model = False  # whether the model is deterministic or not\n",
    "tutu=test_layout(algorithm,seed,deterministic_model)\n"
   ]
  },
  {
   "cell_type": "code",
   "execution_count": null,
   "metadata": {},
   "outputs": [],
   "source": [
    "algorithm = 'NSGA'  # Pick from ['DQN', 'GOAL_DQN_CONSTRAINTS', 'GOAL_DQN', 'NSGA']\n",
    "seed = np.random.randint(1e6)\n",
    "deterministic_model = False  # whether the model is deterministic or not\n",
    "lay=test_layout(algorithm,seed,deterministic_model)\n",
    "valid_algorithms = ['DQN', 'GOAL_DQN', 'GOAL_DQN_CONSTRAINTS','NSGA']\n",
    "sub_tab=[toto,tata,tutu,lay]\n",
    "tab = widgets.Tab(sub_tab,layout=widgets.Layout(width='50%',height='100%',\n",
    "                        margin='0px 25% 0px 25%'))\n",
    "for i in range (len(valid_algorithms)):\n",
    "    tab.set_title(i,valid_algorithms[i])\n"
   ]
  },
  {
   "cell_type": "code",
   "execution_count": null,
   "metadata": {},
   "outputs": [],
   "source": [
    "intro=introduction()\n",
    "application=widgets.VBox([intro,tab])\n",
    "display(application)"
   ]
  },
  {
   "cell_type": "code",
   "execution_count": null,
   "metadata": {},
   "outputs": [],
   "source": []
  }
 ],
 "metadata": {
  "kernelspec": {
   "display_name": "Python 3",
   "language": "python",
   "name": "python3"
  },
  "language_info": {
   "codemirror_mode": {
    "name": "ipython",
    "version": 3
   },
   "file_extension": ".py",
   "mimetype": "text/x-python",
   "name": "python",
   "nbconvert_exporter": "python",
   "pygments_lexer": "ipython3",
   "version": "3.6.10"
  }
 },
 "nbformat": 4,
 "nbformat_minor": 4
}
