{
 "cells": [
  {
   "cell_type": "code",
   "execution_count": 1,
   "metadata": {},
   "outputs": [],
   "source": [
    "%matplotlib widget\n",
    "\n",
    "import matplotlib.pyplot as plt\n",
    "import matplotlib\n",
    "import sys\n",
    "import numpy as np\n",
    "import ipywidgets as widgets\n",
    "sys.path.append('../../')\n",
    "from epidemioptim.analysis.server_utils import test_layout,introduction, footer\n",
    "plt.ioff()\n",
    "algorithm = 'DQN'  # Pick from ['DQN', 'GOAL_DQN_CONSTRAINTS', 'GOAL_DQN', 'NSGA']\n",
    "seed = np.random.randint(1e6)\n",
    "deterministic_model = False  # whether the model is deterministic or not\n",
    "toto=test_layout(algorithm,seed,deterministic_model)\n"
   ]
  },
  {
   "cell_type": "code",
   "execution_count": 2,
   "metadata": {},
   "outputs": [
    {
     "data": {
      "text/html": [
       "<style>\n",
       ".jupyter-widgets.widget-tab > .p-TabBar .p-TabBar-tab {\n",
       "    flex: 0 1 300px\n",
       "}\n",
       "</style>\n"
      ],
      "text/plain": [
       "<IPython.core.display.HTML object>"
      ]
     },
     "metadata": {},
     "output_type": "display_data"
    }
   ],
   "source": [
    "%%html\n",
    "<style>\n",
    ".jupyter-widgets.widget-tab > .p-TabBar .p-TabBar-tab {\n",
    "    flex: 0 1 300px\n",
    "}\n",
    "</style>"
   ]
  },
  {
   "cell_type": "code",
   "execution_count": 3,
   "metadata": {},
   "outputs": [],
   "source": [
    "algorithm = 'GOAL_DQN'  # Pick from ['DQN', 'GOAL_DQN_CONSTRAINTS', 'GOAL_DQN', 'NSGA']\n",
    "seed = np.random.randint(1e6)\n",
    "deterministic_model = False  # whether the model is deterministic or not\n",
    "tata=test_layout(algorithm,seed,deterministic_model)\n",
    "algorithm = 'GOAL_DQN_CONST'  # Pick from ['DQN', 'GOAL_DQN_CONSTRAINTS', 'GOAL_DQN', 'NSGA']\n",
    "seed = np.random.randint(1e6)\n",
    "deterministic_model = False  # whether the model is deterministic or not\n",
    "tutu=test_layout(algorithm,seed,deterministic_model)\n"
   ]
  },
  {
   "cell_type": "code",
   "execution_count": 5,
   "metadata": {},
   "outputs": [],
   "source": [
    "algorithm = 'NSGA'  # Pick from ['DQN', 'GOAL_DQN_CONSTRAINTS', 'GOAL_DQN', 'NSGA']\n",
    "seed = np.random.randint(1e6)\n",
    "deterministic_model = False  # whether the model is deterministic or not\n",
    "lay=test_layout(algorithm,seed,deterministic_model)\n",
    "\n",
    "algorithm = 'yourself'  # Pick from ['DQN', 'GOAL_DQN_CONSTRAINTS', 'GOAL_DQN', 'NSGA']\n",
    "seed = np.random.randint(1e6)\n",
    "deterministic_model = True  # whether the model is deterministic or not\n",
    "tryit=test_layout(algorithm,seed,deterministic_model)\n",
    "\n",
    "\n",
    "valid_algorithms = ['Try it yourself!','DQN', 'Goal-conditioned DQN',\n",
    "                    'Goal-conditioned DQN with constraints',\n",
    "                    'NSGA-II']\n",
    "sub_tab=[tryit,toto,tata,tutu,lay]\n",
    "tab = widgets.Tab(sub_tab,layout=widgets.Layout(width='1200px',\n",
    "                                                height='100%',\n",
    "                                                margin='auto',\n",
    "                                                display='flex'\n",
    "                                                )\n",
    "                  )\n",
    "for i in range (len(valid_algorithms)):\n",
    "    tab.set_title(i,valid_algorithms[i])\n",
    "    \n",
    "intro=introduction()\n",
    "foot=footer()\n",
    "application=widgets.VBox([intro,tab, foot])\n",
    "display(application)"
   ]
  }
 ],
 "metadata": {
  "kernelspec": {
   "display_name": "Python 3",
   "language": "python",
   "name": "python3"
  },
  "language_info": {
   "codemirror_mode": {
    "name": "ipython",
    "version": 3
   },
   "file_extension": ".py",
   "mimetype": "text/x-python",
   "name": "python",
   "nbconvert_exporter": "python",
   "pygments_lexer": "ipython3",
   "version": "3.6.10"
  }
 },
 "nbformat": 4,
 "nbformat_minor": 4
}
