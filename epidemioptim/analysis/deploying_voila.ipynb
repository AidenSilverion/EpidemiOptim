{
 "cells": [
  {
   "cell_type": "code",
   "execution_count": 13,
   "metadata": {},
   "outputs": [
    {
     "ename": "SyntaxError",
     "evalue": "invalid syntax (<ipython-input-13-0e6e8616b050>, line 12)",
     "output_type": "error",
     "traceback": [
      "\u001b[0;36m  File \u001b[0;32m\"<ipython-input-13-0e6e8616b050>\"\u001b[0;36m, line \u001b[0;32m12\u001b[0m\n\u001b[0;31m    <style>\u001b[0m\n\u001b[0m    ^\u001b[0m\n\u001b[0;31mSyntaxError\u001b[0m\u001b[0;31m:\u001b[0m invalid syntax\n"
     ]
    }
   ],
   "source": [
    "%matplotlib widget\n",
    "\n",
    "import matplotlib.pyplot as plt\n",
    "import matplotlib\n",
    "import sys\n",
    "import numpy as np\n",
    "import ipywidgets as widgets\n",
    "sys.path.append('../../')\n",
    "from epidemioptim.analysis.server_utils import test_layout,introduction, footer\n",
    "plt.ioff()\n",
    "algorithm = 'DQN'  # Pick from ['DQN', 'GOAL_DQN_CONSTRAINTS', 'GOAL_DQN', 'NSGA']\n",
    "seed = np.random.randint(1e6)\n",
    "deterministic_model = False  # whether the model is deterministic or not\n",
    "toto=test_layout(algorithm,seed,deterministic_model)\n"
   ]
  },
  {
   "cell_type": "code",
   "execution_count": 14,
   "metadata": {},
   "outputs": [
    {
     "data": {
      "text/html": [
       "<style>\n",
       ".jupyter-widgets.widget-tab > .p-TabBar .p-TabBar-tab {\n",
       "    flex: 0 1 300px\n",
       "}\n",
       "</style>\n"
      ],
      "text/plain": [
       "<IPython.core.display.HTML object>"
      ]
     },
     "metadata": {},
     "output_type": "display_data"
    }
   ],
   "source": [
    "%%html\n",
    "<style>\n",
    ".jupyter-widgets.widget-tab > .p-TabBar .p-TabBar-tab {\n",
    "    flex: 0 1 300px\n",
    "}\n",
    "</style>"
   ]
  },
  {
   "cell_type": "code",
   "execution_count": 2,
   "metadata": {},
   "outputs": [],
   "source": [
    "algorithm = 'GOAL_DQN'  # Pick from ['DQN', 'GOAL_DQN_CONSTRAINTS', 'GOAL_DQN', 'NSGA']\n",
    "seed = np.random.randint(1e6)\n",
    "deterministic_model = False  # whether the model is deterministic or not\n",
    "tata=test_layout(algorithm,seed,deterministic_model)\n"
   ]
  },
  {
   "cell_type": "code",
   "execution_count": 3,
   "metadata": {},
   "outputs": [],
   "source": [
    "algorithm = 'GOAL_DQN_CONST'  # Pick from ['DQN', 'GOAL_DQN_CONSTRAINTS', 'GOAL_DQN', 'NSGA']\n",
    "seed = np.random.randint(1e6)\n",
    "deterministic_model = False  # whether the model is deterministic or not\n",
    "tutu=test_layout(algorithm,seed,deterministic_model)\n"
   ]
  },
  {
   "cell_type": "code",
   "execution_count": 5,
   "metadata": {},
   "outputs": [],
   "source": [
    "algorithm = 'NSGA'  # Pick from ['DQN', 'GOAL_DQN_CONSTRAINTS', 'GOAL_DQN', 'NSGA']\n",
    "seed = np.random.randint(1e6)\n",
    "deterministic_model = False  # whether the model is deterministic or not\n",
    "lay=test_layout(algorithm,seed,deterministic_model)\n",
    "\n",
    "algorithm = 'yourself'  # Pick from ['DQN', 'GOAL_DQN_CONSTRAINTS', 'GOAL_DQN', 'NSGA']\n",
    "seed = np.random.randint(1e6)\n",
    "deterministic_model = False  # whether the model is deterministic or not\n",
    "tryit=test_layout(algorithm,seed,deterministic_model)\n",
    "\n",
    "\n",
    "valid_algorithms = ['Algo 1: DQN', 'Algo 2: Goal-conditioned DQN',\n",
    "                    'Algo 3: Goal-conditioned DQN with constraints',\n",
    "                    'Algo 4: NSGA-II','Try it yourself!']\n",
    "sub_tab=[toto,tata,tutu,lay,tryit]\n",
    "tab = widgets.Tab(sub_tab,layout=widgets.Layout(width='1000px',\n",
    "                                                height='100%',\n",
    "                                                margin='auto',\n",
    "                                                display='flex'\n",
    "                                                )\n",
    "                  )\n",
    "for i in range (len(valid_algorithms)):\n",
    "    tab.set_title(i,valid_algorithms[i])\n"
   ]
  },
  {
   "cell_type": "code",
   "execution_count": null,
   "metadata": {},
   "outputs": [],
   "source": [
    "intro=introduction()\n",
    "foot=footer()\n",
    "application=widgets.VBox([intro,tab, foot])\n",
    "display(application)"
   ]
  },
  {
   "cell_type": "code",
   "execution_count": 6,
   "metadata": {},
   "outputs": [
    {
     "data": {
      "text/plain": [
       "{'0': 'Algo 1: DQN',\n",
       " '1': 'Algo 2: Goal-conditioned DQN',\n",
       " '2': 'Algo 3: Goal-conditioned DQN with constraints',\n",
       " '3': 'Algo 4: NSGA-II',\n",
       " '4': 'Try it yourself!'}"
      ]
     },
     "execution_count": 6,
     "metadata": {},
     "output_type": "execute_result"
    }
   ],
   "source": [
    "tab._titles"
   ]
  },
  {
   "cell_type": "code",
   "execution_count": 11,
   "metadata": {},
   "outputs": [
    {
     "data": {
      "text/plain": [
       "{'selected_index': <traitlets.traitlets.ValidateHandler at 0x7f92b7626f10>}"
      ]
     },
     "execution_count": 11,
     "metadata": {},
     "output_type": "execute_result"
    }
   ],
   "source": [
    "tab._trait_validators\n"
   ]
  },
  {
   "cell_type": "code",
   "execution_count": 12,
   "metadata": {},
   "outputs": [
    {
     "data": {
      "text/html": [
       "<style>\n",
       ".jupyter-widgets.widget-tab > .p-TabBar .p-TabBar-tab {\n",
       "    flex: 0 1 300px\n",
       "}\n",
       "</style>\n"
      ],
      "text/plain": [
       "<IPython.core.display.HTML object>"
      ]
     },
     "metadata": {},
     "output_type": "display_data"
    }
   ],
   "source": []
  },
  {
   "cell_type": "code",
   "execution_count": null,
   "metadata": {},
   "outputs": [],
   "source": []
  }
 ],
 "metadata": {
  "kernelspec": {
   "display_name": "Python 3",
   "language": "python",
   "name": "python3"
  },
  "language_info": {
   "codemirror_mode": {
    "name": "ipython",
    "version": 3
   },
   "file_extension": ".py",
   "mimetype": "text/x-python",
   "name": "python",
   "nbconvert_exporter": "python",
   "pygments_lexer": "ipython3",
   "version": "3.8.5"
  }
 },
 "nbformat": 4,
 "nbformat_minor": 4
}
